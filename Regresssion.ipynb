{
 "cells": [
  {
   "cell_type": "code",
   "execution_count": 16,
   "id": "6eb2b90f-69df-48e6-9b25-d41398a764fe",
   "metadata": {},
   "outputs": [],
   "source": [
    "import pandas as pd\n",
    "from sklearn.linear_model import LogisticRegression\n",
    "from sklearn.model_selection import train_test_split\n",
    "from sklearn.preprocessing import StandardScaler\n",
    "from sklearn.metrics import accuracy_score, classification_report, roc_auc_score"
   ]
  },
  {
   "cell_type": "code",
   "execution_count": 18,
   "id": "0221a1ab-892d-4ed8-88d5-0776e2fd739a",
   "metadata": {},
   "outputs": [],
   "source": [
    "# Load the dataset\n",
    "data = pd.read_csv('framingham_heart_study.csv')\n",
    "data.dropna(inplace=True)\n"
   ]
  },
  {
   "cell_type": "code",
   "execution_count": 20,
   "id": "df4198f7-2507-41c4-a548-4fbe1a1c24b1",
   "metadata": {},
   "outputs": [],
   "source": [
    "# Separate features and target\n",
    "X = data.drop(columns=['TenYearCHD'])  # Features\n",
    "y = data['TenYearCHD']                 # Target variable\n",
    "\n",
    "# Split the dataset into training and testing sets\n",
    "X_train, X_test, y_train, y_test = train_test_split(X, y, test_size=0.2, random_state=42)"
   ]
  },
  {
   "cell_type": "code",
   "execution_count": 22,
   "id": "852b0350-1c29-40a3-95a1-4f1d5ce6d3c7",
   "metadata": {},
   "outputs": [],
   "source": [
    "# Standardize the features\n",
    "scaler = StandardScaler()\n",
    "X_train_scaled = scaler.fit_transform(X_train)\n",
    "X_test_scaled = scaler.transform(X_test)\n",
    "\n",
    "# Train Logistic Regression model\n",
    "log_reg = LogisticRegression(random_state=42)\n",
    "log_reg.fit(X_train_scaled, y_train)\n",
    "\n",
    "# Predict probabilities for the test set\n",
    "y_prob = log_reg.predict_proba(X_test_scaled)[:, 1]  # Probabilities for the positive class (CHD risk)\n",
    "\n",
    "# Predict classes for the test set\n",
    "y_pred = log_reg.predict(X_test_scaled)"
   ]
  },
  {
   "cell_type": "code",
   "execution_count": 24,
   "id": "6aa65414-4f41-453f-bede-61719e7769a3",
   "metadata": {},
   "outputs": [
    {
     "name": "stdout",
     "output_type": "stream",
     "text": [
      "Logistic Regression Evaluation:\n",
      "Accuracy: 84.02%\n",
      "ROC-AUC Score: 0.73\n",
      "\n",
      "Classification Report:\n",
      "              precision    recall  f1-score   support\n",
      "\n",
      "           0       0.84      0.99      0.91       610\n",
      "           1       0.69      0.07      0.13       122\n",
      "\n",
      "    accuracy                           0.84       732\n",
      "   macro avg       0.77      0.53      0.52       732\n",
      "weighted avg       0.82      0.84      0.78       732\n",
      "\n"
     ]
    }
   ],
   "source": [
    "# Calculate metrics\n",
    "accuracy = accuracy_score(y_test, y_pred)\n",
    "roc_auc = roc_auc_score(y_test, y_prob)\n",
    "\n",
    "print(\"Logistic Regression Evaluation:\")\n",
    "print(f\"Accuracy: {accuracy * 100:.2f}%\")\n",
    "print(f\"ROC-AUC Score: {roc_auc:.2f}\")\n",
    "print(\"\\nClassification Report:\")\n",
    "print(classification_report(y_test, y_pred))"
   ]
  },
  {
   "cell_type": "code",
   "execution_count": 26,
   "id": "69fad88c-1ab9-4144-9402-64792dd2d79b",
   "metadata": {},
   "outputs": [
    {
     "name": "stdout",
     "output_type": "stream",
     "text": [
      "\n",
      "Sample Data Probability of CHD Risk: 0.29\n"
     ]
    }
   ],
   "source": [
    "# Example: Probability score for a single sample\n",
    "sample_data = pd.DataFrame({\n",
    "    'male': [1],\n",
    "    'age': [55],\n",
    "    'education': [1],\n",
    "    'currentSmoker': [1],\n",
    "    'cigsPerDay': [10],\n",
    "    'BPMeds': [0],\n",
    "    'prevalentStroke': [0],\n",
    "    'prevalentHyp': [1],\n",
    "    'diabetes': [0],\n",
    "    'totChol': [240],\n",
    "    'sysBP': [140],\n",
    "    'diaBP': [90],\n",
    "    'BMI': [30],\n",
    "    'heartRate': [75],\n",
    "    'glucose': [100]\n",
    "})\n",
    "\n",
    "# Standardize the sample\n",
    "sample_scaled = scaler.transform(sample_data)\n",
    "\n",
    "# Predict probability for the sample\n",
    "sample_prob = log_reg.predict_proba(sample_scaled)[:, 1]\n",
    "print(f\"\\nSample Data Probability of CHD Risk: {sample_prob[0]:.2f}\")\n"
   ]
  },
  {
   "cell_type": "code",
   "execution_count": 28,
   "id": "2acfae56-40df-4ddf-8fbf-3b24a406ccd9",
   "metadata": {},
   "outputs": [
    {
     "name": "stdout",
     "output_type": "stream",
     "text": [
      "            Feature  Coefficient\n",
      "0              male     0.307671\n",
      "1               age     0.571186\n",
      "2         education    -0.045600\n",
      "3     currentSmoker     0.064952\n",
      "4        cigsPerDay     0.177517\n",
      "5            BPMeds     0.052768\n",
      "6   prevalentStroke     0.069755\n",
      "7      prevalentHyp     0.055539\n",
      "8          diabetes     0.033621\n",
      "9           totChol     0.116975\n",
      "10            sysBP     0.338067\n",
      "11            diaBP    -0.061224\n",
      "12              BMI     0.055556\n",
      "13        heartRate    -0.007110\n",
      "14          glucose     0.115263\n"
     ]
    }
   ],
   "source": [
    "# Output the coefficients\n",
    "coefficients = pd.DataFrame({\n",
    "    'Feature': X.columns,\n",
    "    'Coefficient': log_reg.coef_[0]\n",
    "})\n",
    "print(coefficients)\n"
   ]
  }
 ],
 "metadata": {
  "kernelspec": {
   "display_name": "Python 3 (ipykernel)",
   "language": "python",
   "name": "python3"
  },
  "language_info": {
   "codemirror_mode": {
    "name": "ipython",
    "version": 3
   },
   "file_extension": ".py",
   "mimetype": "text/x-python",
   "name": "python",
   "nbconvert_exporter": "python",
   "pygments_lexer": "ipython3",
   "version": "3.12.4"
  }
 },
 "nbformat": 4,
 "nbformat_minor": 5
}
